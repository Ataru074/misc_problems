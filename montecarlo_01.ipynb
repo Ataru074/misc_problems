{
 "cells": [
  {
   "cell_type": "markdown",
   "id": "1eeb355c-c59a-428e-9ec6-8d57cda653ba",
   "metadata": {},
   "source": [
    "This comes from a problem I have seen on reddit: \n",
    "\n",
    "What is the optimal number of items to keep on a shelf, given the following conditions:\n",
    "\n",
    "1. Historically the items where sold with and average of 10 and standard deviation of 2.\n",
    "2. Sold items generate a profit, unsold items which were on the shelf are discarded and generate a loss.\n",
    "3. Use a montecarlo simulation to find the optimal number of items.\n",
    "\n",
    "There are plenty of ways to do it. We can express revenues and losses separately, as I did here, or as a ratio to use only one variable. Anyway, this is a way to do it."
   ]
  },
  {
   "cell_type": "code",
   "execution_count": 1,
   "id": "58bda0f5-9486-485a-8da1-72238b7206ea",
   "metadata": {},
   "outputs": [],
   "source": [
    "import pandas as pd\n",
    "import numpy as np\n",
    "import seaborn as sns\n",
    "\n",
    "\n",
    "sns.set_style('whitegrid')\n",
    "sns.set(rc={'figure.figsize':(12,9)})"
   ]
  },
  {
   "cell_type": "code",
   "execution_count": 2,
   "id": "afabd962-c925-46c6-af3b-694f90bc8ba4",
   "metadata": {},
   "outputs": [],
   "source": [
    "# Set variables for simulation\n",
    "\n",
    "# historical average of items sold\n",
    "avg = 10\n",
    "# historical standard deviation for items sold\n",
    "sd = 2\n",
    "# Optional, number of days create a fictional distribution of sales and verify average and SD\n",
    "num_days = 1\n",
    "# how many simulations to run - note: in practice it's number of days * number of simulations\n",
    "num_sim = 1000\n",
    "# simulation for number of items for sale \n",
    "items_for_sale = avg + sd * 3\n",
    "\n",
    "# profit for each single product sold\n",
    "profit = 10\n",
    "# losses for any product not sold and left on the shelf at the end of the day\n",
    "loss = 50"
   ]
  },
  {
   "cell_type": "code",
   "execution_count": 3,
   "id": "8cca8752-c399-4daf-a92f-19147411259f",
   "metadata": {},
   "outputs": [],
   "source": [
    "# a function to calculate the revenues\n",
    "\n",
    "def calc_revenue(x):\n",
    "    \"\"\" Return the revenue given x number sold\n",
    "    number of item sold will give profit if item is available\n",
    "    or give a loss if item remain unsold but available\"\"\"\n",
    "    if x >= w:\n",
    "        revenue = w * profit\n",
    "    else:\n",
    "        diff = x - w\n",
    "        revenue = x * profit + diff * loss\n",
    "    return revenue    \n",
    "        \n"
   ]
  },
  {
   "cell_type": "code",
   "execution_count": 4,
   "id": "8ff3ac16-0626-4c28-9e42-a2521d2e3d7c",
   "metadata": {},
   "outputs": [
    {
     "name": "stdout",
     "output_type": "stream",
     "text": [
      "Optimal number of items to keep on shelf and average revenues per day: \n",
      "   Items_for_Sale AVG_Revenue\n",
      "8              8   70.709291\n"
     ]
    },
    {
     "data": {
      "image/png": "[encoded data removed]",
      "text/plain": [
       "<Figure size 864x648 with 1 Axes>"
      ]
     },
     "metadata": {},
     "output_type": "display_data"
    }
   ],
   "source": [
    "# initialize a dataframe to collect results\n",
    "df = pd.DataFrame(columns = ['Items_for_Sale', 'AVG_Revenue'], index = range(items_for_sale + 1))\n",
    "\n",
    "\n",
    "w = 0\n",
    "total_revenue = []\n",
    "\n",
    "while w <= items_for_sale:\n",
    "    avg_rev = []\n",
    "    j = 0\n",
    "    while j <= num_sim:\n",
    "        item_sold = np.random.default_rng().normal(avg, sd, num_days).round(0)\n",
    "        j += 1\n",
    "        total_revenue = []\n",
    "        for i in item_sold:\n",
    "            total_revenue.append(calc_revenue(i))\n",
    "            # print(\"this is items sold: \", i, \"and this is rolling average revenue: \", np.mean(total_revenue))\n",
    "        avg_rev.append(np.mean(total_revenue))\n",
    "        # print(\"this is sim # \",j ,\"this is average revenue\",  avg_rev)\n",
    "    # print(\"this is number of items for sale \",w,\"this is average revenue\", np.mean(avg_rev))\n",
    "    df.loc[w].Items_for_Sale = w\n",
    "    df.loc[w].AVG_Revenue = np.mean(avg_rev)\n",
    "    w += 1\n",
    "    \n",
    "    \n",
    "sns.barplot(data = df, x = \"Items_for_Sale\", y = \"AVG_Revenue\")\n",
    "\n",
    "print(\"Optimal number of items to keep on shelf and average revenues per day: \\n\", df.query('AVG_Revenue == AVG_Revenue.max()'))"
   ]
  },
  {
   "cell_type": "code",
   "execution_count": null,
   "id": "889aa4dd-a9a3-4cd2-a730-1930f498d9c4",
   "metadata": {},
   "outputs": [],
   "source": []
  },
  {
   "cell_type": "code",
   "execution_count": null,
   "id": "40f9d8d6-8bdd-46eb-91e2-fb71e15bf522",
   "metadata": {},
   "outputs": [],
   "source": []
  },
  {
   "cell_type": "code",
   "execution_count": null,
   "id": "24af2ea1-f765-4c27-9876-52d2a3c78320",
   "metadata": {},
   "outputs": [],
   "source": []
  }
 ],
 "metadata": {
  "kernelspec": {
   "display_name": "Python 3",
   "language": "python",
   "name": "python3"
  },
  "language_info": {
   "codemirror_mode": {
    "name": "ipython",
    "version": 3
   },
   "file_extension": ".py",
   "mimetype": "text/x-python",
   "name": "python",
   "nbconvert_exporter": "python",
   "pygments_lexer": "ipython3",
   "version": "3.8.8"
  }
 },
 "nbformat": 4,
 "nbformat_minor": 5
}
